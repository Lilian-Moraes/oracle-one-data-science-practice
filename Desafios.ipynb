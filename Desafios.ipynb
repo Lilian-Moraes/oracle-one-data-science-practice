{
  "nbformat": 4,
  "nbformat_minor": 0,
  "metadata": {
    "colab": {
      "provenance": [],
      "authorship_tag": "ABX9TyPpUQqDIQYnivxh9r5i8Ye+",
      "include_colab_link": true
    },
    "kernelspec": {
      "name": "python3",
      "display_name": "Python 3"
    },
    "language_info": {
      "name": "python"
    }
  },
  "cells": [
    {
      "cell_type": "markdown",
      "metadata": {
        "id": "view-in-github",
        "colab_type": "text"
      },
      "source": [
        "<a href=\"https://colab.research.google.com/github/Lilian-Moraes/oracle-one-data-science-practice/blob/main/Desafios.ipynb\" target=\"_parent\"><img src=\"https://colab.research.google.com/assets/colab-badge.svg\" alt=\"Open In Colab\"/></a>"
      ]
    },
    {
      "cell_type": "markdown",
      "source": [
        "1) Podemos solicitar o nome com a função input e atribuir o resultado da saída a uma variável. Na sequência, podemos imprimir o resultado da variável na função print usando a formatação f-string."
      ],
      "metadata": {
        "id": "Uz4FSTDFq_4I"
      }
    },
    {
      "cell_type": "code",
      "execution_count": 1,
      "metadata": {
        "colab": {
          "base_uri": "https://localhost:8080/"
        },
        "id": "OpVJxUePq3_u",
        "outputId": "9f3cef94-cd62-4411-9803-7f276b01331b"
      },
      "outputs": [
        {
          "output_type": "stream",
          "name": "stdout",
          "text": [
            "Digite seu nome: Lili\n",
            "Olá, Lili.\n"
          ]
        }
      ],
      "source": [
        "nome = input('Digite seu nome: ')\n",
        "print(f'Olá, {nome}.')"
      ]
    },
    {
      "cell_type": "markdown",
      "source": [
        "2) Podemos solicitar o nome e a idade com a função input e atribuir o resultado da saída a uma variável. No caso da idade, é necessária uma conversão da saída do input para um valor inteiro com a função int(). Em seguida, podemos imprimir o resultado das coletas na função print usando a formatação f-string."
      ],
      "metadata": {
        "id": "Jaox_sK2rI0q"
      }
    },
    {
      "cell_type": "code",
      "source": [
        "nome = input('Digite seu nome: ')\n",
        "idade = int(input('Digite sua idade: '))\n",
        "print(f'Olá {nome}, você tem {idade} anos.')"
      ],
      "metadata": {
        "colab": {
          "base_uri": "https://localhost:8080/"
        },
        "id": "jiN-o6NarE8g",
        "outputId": "1a884dea-1480-4fc5-fc0c-d13d466b1927"
      },
      "execution_count": 2,
      "outputs": [
        {
          "output_type": "stream",
          "name": "stdout",
          "text": [
            "Digite seu nome: Lilian\n",
            "Digite sua idade: 40\n",
            "Olá Lilian, você tem 40 anos.\n"
          ]
        }
      ]
    },
    {
      "cell_type": "markdown",
      "source": [
        "3) Podemos solicitar o nome, a idade e a altura com a função input e atribuir o resultado da saída a uma variável. No caso da idade, é necessária uma conversão da saída do input para um valor inteiro com a função int(). Já para a altura, é preciso realizar uma conversão para o valor de tipo float com a função float(). Em seguida, podemos imprimir o resultado das coletas na função print usando a formatação f-string."
      ],
      "metadata": {
        "id": "JTaBXwNArWMO"
      }
    },
    {
      "cell_type": "code",
      "source": [
        "nome = input('Digite seu nome: ')\n",
        "idade = int(input('Digite sua idade: '))\n",
        "altura = float(input('Digite sua altura: '))\n",
        "print(f'Olá {nome}, você tem {idade} anos e mede {altura} metros!')"
      ],
      "metadata": {
        "colab": {
          "base_uri": "https://localhost:8080/"
        },
        "id": "6q1hzOP9rNnT",
        "outputId": "2d21dca2-43e6-4486-f3b0-ce353ef99d21"
      },
      "execution_count": 3,
      "outputs": [
        {
          "output_type": "stream",
          "name": "stdout",
          "text": [
            "Digite seu nome: Lili\n",
            "Digite sua idade: 40\n",
            "Digite sua altura: 1.64\n",
            "Olá Lili, você tem 40 anos e mede 1.64 metros!\n"
          ]
        }
      ]
    },
    {
      "cell_type": "markdown",
      "source": [
        "**Calculadora com operadores**"
      ],
      "metadata": {
        "id": "o--cfTg4rg6z"
      }
    },
    {
      "cell_type": "markdown",
      "source": [
        "1) Podemos coletar os dois valores com input e converter a saída para um inteiro com a função int(). Com o print, é possível mostrar o resultado da soma entre as duas entradas com +."
      ],
      "metadata": {
        "id": "l8Y3276erigC"
      }
    },
    {
      "cell_type": "code",
      "source": [
        "a = int(input('Digite o primeiro valor: '))\n",
        "b = int(input('Digite o segundo valor: '))\n",
        "print(a+b)"
      ],
      "metadata": {
        "colab": {
          "base_uri": "https://localhost:8080/"
        },
        "id": "IAw_7NhgrYtd",
        "outputId": "2550e67c-19d8-4924-d9f0-7327dc6731e5"
      },
      "execution_count": 4,
      "outputs": [
        {
          "output_type": "stream",
          "name": "stdout",
          "text": [
            "Digite o primeiro valor: 10\n",
            "Digite o segundo valor: 5\n",
            "15\n"
          ]
        }
      ]
    },
    {
      "cell_type": "markdown",
      "source": [
        "2) Usando a mesma lógica da questão anterior, podemos coletar os três valores com input e converter a saída para um inteiro com a função int(). Com o print, é possível mostrar o resultado da soma entre as três entradas com +."
      ],
      "metadata": {
        "id": "g6XgS4O4rpXa"
      }
    },
    {
      "cell_type": "code",
      "source": [
        "a = int(input('Digite o primeiro valor: '))\n",
        "b = int(input('Digite o segundo valor: '))\n",
        "c = int(input('Digite o terceiro valor: '))\n",
        "print(a+b+c)"
      ],
      "metadata": {
        "colab": {
          "base_uri": "https://localhost:8080/"
        },
        "id": "CYTq5zQzrmcS",
        "outputId": "b2c8e272-aff1-4a1d-b86e-37485cd0abb3"
      },
      "execution_count": 5,
      "outputs": [
        {
          "output_type": "stream",
          "name": "stdout",
          "text": [
            "Digite o primeiro valor: 5\n",
            "Digite o segundo valor: 70\n",
            "Digite o terceiro valor: 6\n",
            "81\n"
          ]
        }
      ]
    },
    {
      "cell_type": "markdown",
      "source": [
        "3) Podemos coletar os dois valores com input e converter a saída para um inteiro com a função int(). Com o print, é possível mostrar o resultado da subtração entre as duas entradas com -."
      ],
      "metadata": {
        "id": "kGJAR_UVr2Bs"
      }
    },
    {
      "cell_type": "code",
      "source": [
        "a = int(input('Digite o primeiro valor: '))\n",
        "b = int(input('Digite o segundo valor: '))\n",
        "print(a-b)"
      ],
      "metadata": {
        "colab": {
          "base_uri": "https://localhost:8080/"
        },
        "id": "J8cmcQcKrwVL",
        "outputId": "b014ed4b-9b0c-493c-fa73-a2e7074015a6"
      },
      "execution_count": 6,
      "outputs": [
        {
          "output_type": "stream",
          "name": "stdout",
          "text": [
            "Digite o primeiro valor: 4\n",
            "Digite o segundo valor: 3\n",
            "1\n"
          ]
        }
      ]
    },
    {
      "cell_type": "markdown",
      "source": [
        "4) Podemos coletar os dois valores com input e converter a saída para um inteiro com a função int(). Com o print, é possível mostrar o resultado da multiplicação entre as duas entradas com *."
      ],
      "metadata": {
        "id": "WX20THEgsAZp"
      }
    },
    {
      "cell_type": "code",
      "source": [
        "a = int(input('Digite o primeiro valor: '))\n",
        "b = int(input('Digite o segundo valor: '))\n",
        "print(a*b)"
      ],
      "metadata": {
        "colab": {
          "base_uri": "https://localhost:8080/"
        },
        "id": "Zv9hmVTYr6AU",
        "outputId": "9fec3197-03ce-48d9-e4f1-ad8d955d78e8"
      },
      "execution_count": 7,
      "outputs": [
        {
          "output_type": "stream",
          "name": "stdout",
          "text": [
            "Digite o primeiro valor: 2\n",
            "Digite o segundo valor: 4\n",
            "8\n"
          ]
        }
      ]
    },
    {
      "cell_type": "markdown",
      "source": [
        "5) Podemos coletar o numerador e denominador com input e converter a saída para um inteiro com a função int(). Com o print, é possível mostrar o resultado da divisão entre as duas entradas com /."
      ],
      "metadata": {
        "id": "6gDR1zOQsG5y"
      }
    },
    {
      "cell_type": "code",
      "source": [
        "numerador = int(input('Digite o numerador: '))\n",
        "denominador = int(input('Digite o denominador (OBS: o valor não pode ser nulo): '))\n",
        "print(numerador/denominador)"
      ],
      "metadata": {
        "colab": {
          "base_uri": "https://localhost:8080/"
        },
        "id": "4T0PBt5WsCmE",
        "outputId": "1d923071-d894-4113-8188-fc13db4799b2"
      },
      "execution_count": 8,
      "outputs": [
        {
          "output_type": "stream",
          "name": "stdout",
          "text": [
            "Digite o numerador: 6\n",
            "Digite o denominador (OBS: o valor não pode ser nulo): 2\n",
            "3.0\n"
          ]
        }
      ]
    },
    {
      "cell_type": "markdown",
      "source": [
        "6) Podemos coletar o operador e potência com input e converter a saída para um inteiro com a função int(). Com o print, é possível mostrar o resultado da exponenciação com **."
      ],
      "metadata": {
        "id": "uw8cNmENsU67"
      }
    },
    {
      "cell_type": "code",
      "source": [
        "operador = int(input('Digite o operador valor: '))\n",
        "potencia = int(input('Digite a potência valor: '))\n",
        "print(operador**potencia)"
      ],
      "metadata": {
        "colab": {
          "base_uri": "https://localhost:8080/"
        },
        "id": "i0flqcUKsNiB",
        "outputId": "e41b04c1-aa44-4837-e472-75d80a2aff2b"
      },
      "execution_count": 9,
      "outputs": [
        {
          "output_type": "stream",
          "name": "stdout",
          "text": [
            "Digite o operador valor: 8\n",
            "Digite a potência valor: 2\n",
            "64\n"
          ]
        }
      ]
    },
    {
      "cell_type": "markdown",
      "source": [
        "7) Podemos coletar o numerador e denominador com input e converter a saída para um inteiro com a função int(). Com o print, é possível mostrar o resultado da divisão inteira entre as duas entradas com //."
      ],
      "metadata": {
        "id": "edU5ZHykscxj"
      }
    },
    {
      "cell_type": "code",
      "source": [
        "numerador = int(input('Digite o numerador: '))\n",
        "denominador = int(input('Digite o denominador (OBS: o valor não pode ser nulo): '))\n",
        "print(numerador//denominador)"
      ],
      "metadata": {
        "colab": {
          "base_uri": "https://localhost:8080/"
        },
        "id": "kLcCJe37sXAr",
        "outputId": "e489d74a-369f-46ea-ac71-86dd552a06dc"
      },
      "execution_count": 10,
      "outputs": [
        {
          "output_type": "stream",
          "name": "stdout",
          "text": [
            "Digite o numerador: 6\n",
            "Digite o denominador (OBS: o valor não pode ser nulo): 4\n",
            "1\n"
          ]
        }
      ]
    },
    {
      "cell_type": "markdown",
      "source": [
        "8) Podemos coletar o numerador e denominador com input e converter a saída para um inteiro com a função int(). Com o print, é possível mostrar o resultado do resto da divisão entre as duas entradas com %."
      ],
      "metadata": {
        "id": "zVcW4Ldrsv2z"
      }
    },
    {
      "cell_type": "code",
      "source": [
        "numerador = int(input('Digite o numerador: '))\n",
        "denominador = int(input('Digite o denominador (OBS: o valor não pode ser nulo): '))\n",
        "print(numerador%denominador)"
      ],
      "metadata": {
        "colab": {
          "base_uri": "https://localhost:8080/"
        },
        "id": "z0BjC5h5sfPC",
        "outputId": "6dfe9389-74e0-4956-b869-ee341d50b65d"
      },
      "execution_count": 11,
      "outputs": [
        {
          "output_type": "stream",
          "name": "stdout",
          "text": [
            "Digite o numerador: 4\n",
            "Digite o denominador (OBS: o valor não pode ser nulo): 2\n",
            "0\n"
          ]
        }
      ]
    },
    {
      "cell_type": "markdown",
      "source": [
        "9) Podemos coletar as três notas com input e converter a saída para um float com a função float(). Com o print e formatação f-string, é possível mostrar o resultado da média entre as três variáveis somando as notas com + e dividindo o valor da soma com /."
      ],
      "metadata": {
        "id": "QPdB_ur9s3l7"
      }
    },
    {
      "cell_type": "code",
      "source": [
        "nota_1 = float(input('Digite a 1° nota: '))\n",
        "nota_2 = float(input('Digite a 2° nota: '))\n",
        "nota_3 = float(input('Digite a 3° nota: '))\n",
        "print(f'Média {(nota_1+nota_2+nota_3)/3}.')"
      ],
      "metadata": {
        "colab": {
          "base_uri": "https://localhost:8080/"
        },
        "id": "EYKPYHewsx4a",
        "outputId": "4c95f580-76b5-44f1-ac9b-9b57ca9c2969"
      },
      "execution_count": 12,
      "outputs": [
        {
          "output_type": "stream",
          "name": "stdout",
          "text": [
            "Digite a 1° nota: 5\n",
            "Digite a 2° nota: 8\n",
            "Digite a 3° nota: 3\n",
            "Média 5.333333333333333.\n"
          ]
        }
      ]
    },
    {
      "cell_type": "markdown",
      "source": [
        "10) Calculamos a média ponderada multiplicando os pesos pelos seus respectivos valores e somando o resultado entre cada multiplicação. O valor dessas somas é dividido pela soma total dos pesos. Com o print, imprimimos o resultado do cálculo da média."
      ],
      "metadata": {
        "id": "xFvJ1j-ztCI2"
      }
    },
    {
      "cell_type": "code",
      "source": [
        "media_ponderada = (5*1 + 12*2 + 20*3 + 15*4) / (1+2+3+4)\n",
        "print(f'Média {media_ponderada}.')"
      ],
      "metadata": {
        "colab": {
          "base_uri": "https://localhost:8080/"
        },
        "id": "_lY6korGs59b",
        "outputId": "797f9684-a59b-4ee4-e8df-8dc636f19681"
      },
      "execution_count": 13,
      "outputs": [
        {
          "output_type": "stream",
          "name": "stdout",
          "text": [
            "Média 14.9.\n"
          ]
        }
      ]
    },
    {
      "cell_type": "markdown",
      "source": [
        "**Editando textos**"
      ],
      "metadata": {
        "id": "obBkjt3LtO5c"
      }
    },
    {
      "cell_type": "markdown",
      "source": [
        "1) Definimos uma frase qualquer entre aspas simples e imprimimos ela inserindo a variável dentro de um print."
      ],
      "metadata": {
        "id": "e289WQIttQnq"
      }
    },
    {
      "cell_type": "code",
      "source": [
        "frase = 'Olá Python!'\n",
        "print(frase)"
      ],
      "metadata": {
        "colab": {
          "base_uri": "https://localhost:8080/"
        },
        "id": "ub09vx_TtLAA",
        "outputId": "50cac4ce-70e8-4fb3-f4c7-d889a5601a43"
      },
      "execution_count": 14,
      "outputs": [
        {
          "output_type": "stream",
          "name": "stdout",
          "text": [
            "Olá Python!\n"
          ]
        }
      ]
    },
    {
      "cell_type": "markdown",
      "source": [
        "2) Coletamos uma frase a partir da função input e imprimimos o resultado com a função print."
      ],
      "metadata": {
        "id": "ZOjquBjstWkT"
      }
    },
    {
      "cell_type": "code",
      "source": [
        "frase = input('Digite uma frase: ')\n",
        "print(frase)"
      ],
      "metadata": {
        "colab": {
          "base_uri": "https://localhost:8080/"
        },
        "id": "fLzQJvxZtUO7",
        "outputId": "0e792a65-2271-41d1-a67d-fd983d3e229a"
      },
      "execution_count": 15,
      "outputs": [
        {
          "output_type": "stream",
          "name": "stdout",
          "text": [
            "Digite uma frase: Olá, mundo!\n",
            "Olá, mundo!\n"
          ]
        }
      ]
    },
    {
      "cell_type": "markdown",
      "source": [
        "3) Coletamos uma frase a partir da função input e conseguimos mostrar seu valor em maiúsculo com o método upper. Podemos mostrar a saída dele em uma função print."
      ],
      "metadata": {
        "id": "7Eg-jWSQtdHc"
      }
    },
    {
      "cell_type": "code",
      "source": [
        "frase = input('Digite uma frase: ')\n",
        "print(frase.upper())"
      ],
      "metadata": {
        "colab": {
          "base_uri": "https://localhost:8080/"
        },
        "id": "OlZG6BFutZC0",
        "outputId": "0a2b3f47-df6c-4633-c874-a719f7e34716"
      },
      "execution_count": 16,
      "outputs": [
        {
          "output_type": "stream",
          "name": "stdout",
          "text": [
            "Digite uma frase: sou aluna da Oracle Alura\n",
            "SOU ALUNA DA ORACLE ALURA\n"
          ]
        }
      ]
    },
    {
      "cell_type": "markdown",
      "source": [
        "4) Coletamos uma frase a partir da função input e conseguimos mostrar seu valor em minúsculo com o método lower. Podemos mostrar a saída dele em uma função print."
      ],
      "metadata": {
        "id": "T2hqsZYEtmyT"
      }
    },
    {
      "cell_type": "code",
      "source": [
        "frase = input('Digite uma frase: ')\n",
        "print(frase.lower())"
      ],
      "metadata": {
        "colab": {
          "base_uri": "https://localhost:8080/"
        },
        "id": "BgnTuKjBtfLn",
        "outputId": "4c695e7d-f2ec-493b-a2ff-5229b4112bfc"
      },
      "execution_count": 17,
      "outputs": [
        {
          "output_type": "stream",
          "name": "stdout",
          "text": [
            "Digite uma frase: aluna DS\n",
            "aluna ds\n"
          ]
        }
      ]
    },
    {
      "cell_type": "markdown",
      "source": [
        "5) Para o exemplo, é interessante definir uma frase com espaços no início e no fim da frase. Definido isso, podemos remover esses espaços com o método strip e mostramos o resultado na função print."
      ],
      "metadata": {
        "id": "ErbJqbNYts6Y"
      }
    },
    {
      "cell_type": "code",
      "source": [
        "frase = ' Olá Python!  '\n",
        "print(frase.strip())"
      ],
      "metadata": {
        "colab": {
          "base_uri": "https://localhost:8080/"
        },
        "id": "YLtbe60xtoni",
        "outputId": "2f59280b-c89a-4dbc-c298-04693540eb3b"
      },
      "execution_count": 18,
      "outputs": [
        {
          "output_type": "stream",
          "name": "stdout",
          "text": [
            "Olá Python!\n"
          ]
        }
      ]
    },
    {
      "cell_type": "markdown",
      "source": [
        "6) Coletamos uma frase a partir da função input, mesmo não sabendo se ela terá espaços no início e no fim da frase, e podemos remover esses espaços com o método strip. O resultado pode ser exposto na função print."
      ],
      "metadata": {
        "id": "bqwvpp7xtzWP"
      }
    },
    {
      "cell_type": "code",
      "source": [
        "frase = input('Digite uma frase: ')\n",
        "print(frase.strip())"
      ],
      "metadata": {
        "colab": {
          "base_uri": "https://localhost:8080/"
        },
        "id": "Oj0xfxVwtvjD",
        "outputId": "fe9b5097-a8ca-4a21-b54a-b22d803a2245"
      },
      "execution_count": 19,
      "outputs": [
        {
          "output_type": "stream",
          "name": "stdout",
          "text": [
            "Digite uma frase:     Aluna DS\n",
            "Aluna DS\n"
          ]
        }
      ]
    },
    {
      "cell_type": "markdown",
      "source": [
        "7) Coletamos uma frase a partir da função input, mesmo não sabendo se ela terá espaços no início e no fim da frase; podemos remover esses espaços com o método strip e também utilizar o método lower agrupado ao método strip. O resultado pode ser exposto na função print."
      ],
      "metadata": {
        "id": "Z1pvizDct-Rk"
      }
    },
    {
      "cell_type": "code",
      "source": [
        "frase = input('Digite uma frase: ')\n",
        "print(frase.strip().lower())"
      ],
      "metadata": {
        "colab": {
          "base_uri": "https://localhost:8080/"
        },
        "id": "Fq22bAW9t24i",
        "outputId": "ab411c3a-3fce-482d-9919-a8ea1e3520da"
      },
      "execution_count": 20,
      "outputs": [
        {
          "output_type": "stream",
          "name": "stdout",
          "text": [
            "Digite uma frase: Aluna Data Science\n",
            "aluna data science\n"
          ]
        }
      ]
    },
    {
      "cell_type": "markdown",
      "source": [
        "8) Coletamos uma frase a partir da função input. Para ter certeza de que os caracteres não vão estar em letras maiúsculas, podemos deixar toda a frase em letras minúsculas com o método lower e depois agrupamos o resultado da função ao método replace, definindo o valor a ser substituído como 'e' e o novo valor como 'f'. O resultado é exposto na função print."
      ],
      "metadata": {
        "id": "A6ewx6WRuGes"
      }
    },
    {
      "cell_type": "code",
      "source": [
        "frase = input('Digite uma frase: ')\n",
        "print(frase.lower().replace('e','f'))"
      ],
      "metadata": {
        "colab": {
          "base_uri": "https://localhost:8080/"
        },
        "id": "C5McidqbuCL5",
        "outputId": "360db7bc-d65b-4efa-e4a9-0f03dfb551e7"
      },
      "execution_count": 21,
      "outputs": [
        {
          "output_type": "stream",
          "name": "stdout",
          "text": [
            "Digite uma frase: Eu sou aluna DS\n",
            "fu sou aluna ds\n"
          ]
        }
      ]
    },
    {
      "cell_type": "markdown",
      "source": [
        "9) Coletamos uma frase a partir da função input. Para ter certeza de que os caracteres não vão estar em letras maiúsculas, podemos deixar toda a frase em letras minúsculas com o método lower e depois agrupamos o resultado da função ao método replace, definindo o valor a ser substituido como 'a' e o novo valor como o caractere 64 pela tabela Unicode, que corresponde ao caractere @. O resultado é exposto na função print."
      ],
      "metadata": {
        "id": "ueTHdeFruPWy"
      }
    },
    {
      "cell_type": "code",
      "source": [
        "frase = input('Digite uma frase: ')\n",
        "print(frase.lower().replace('a',chr(64)))"
      ],
      "metadata": {
        "colab": {
          "base_uri": "https://localhost:8080/"
        },
        "id": "4Fag5tC1uIv4",
        "outputId": "4cb3be12-7d95-482d-d869-92ad99ef403c"
      },
      "execution_count": 22,
      "outputs": [
        {
          "output_type": "stream",
          "name": "stdout",
          "text": [
            "Digite uma frase: Aluna DS\n",
            "@lun@ ds\n"
          ]
        }
      ]
    },
    {
      "cell_type": "markdown",
      "source": [
        "10) Coletamos uma frase a partir da função input. Para ter certeza de que os caracteres não vão estar em letras maiúsculas, podemos deixar toda a frase em letras minúsculas com o método lower e depois agrupamos o resultado da função ao método replace, definindo o valor a ser substituido como 's' e o novo valor como o caractere 36 pela tabela Unicode, que corresponde ao caractere $. O resultado é exposto na função print."
      ],
      "metadata": {
        "id": "3oXLMbnDuXC-"
      }
    },
    {
      "cell_type": "code",
      "source": [
        "frase = input('Digite uma frase: ')\n",
        "print(frase.lower().replace('s',chr(36)))"
      ],
      "metadata": {
        "colab": {
          "base_uri": "https://localhost:8080/"
        },
        "id": "GSmrBP6VuRwM",
        "outputId": "d1cb2d86-3172-40d7-85eb-de7a1dc8868e"
      },
      "execution_count": 23,
      "outputs": [
        {
          "output_type": "stream",
          "name": "stdout",
          "text": [
            "Digite uma frase: valores monetários\n",
            "valore$ monetário$\n"
          ]
        }
      ]
    },
    {
      "cell_type": "markdown",
      "source": [
        "*Desafios Operadores Lógicos"
      ],
      "metadata": {
        "id": "nr6x4E423ZTu"
      }
    },
    {
      "cell_type": "markdown",
      "source": [
        "1) Escreva um programa que peça à pessoa usuária para fornecer dois números e exibir o número maior."
      ],
      "metadata": {
        "id": "YFc0skhj3eEq"
      }
    },
    {
      "cell_type": "code",
      "source": [
        "# Coletar os números\n",
        "num1 = float(input('Digite o 1° número: '))\n",
        "num2 = float(input('Digite o 2° número: '))\n",
        "\n",
        "# Comparamos ambos os números e descobrimos qual é o maior\n",
        "if num1 > num2:\n",
        "    print(f'O primeiro número é maior: {num1}')\n",
        "elif num2 > num1:\n",
        "    print(f'O segundo número é maior: {num2}')\n",
        "else: # Caso os números sejam iguais\n",
        "    print('Os dois números são iguais.')"
      ],
      "metadata": {
        "colab": {
          "base_uri": "https://localhost:8080/"
        },
        "id": "2Xen6t5YuZd9",
        "outputId": "4f510a48-5886-4fd6-d648-711970055b5d"
      },
      "execution_count": 1,
      "outputs": [
        {
          "output_type": "stream",
          "name": "stdout",
          "text": [
            "Digite o 1° número: 3\n",
            "Digite o 2° número: 5\n",
            "O segundo número é maior: 5.0\n"
          ]
        }
      ]
    },
    {
      "cell_type": "markdown",
      "source": [
        "2) Escreva um programa que solicite o percentual de crescimento de produção de uma empresa e informe se houve um crescimento (porcentagem positiva) ou decrescimento (porcentagem negativa)."
      ],
      "metadata": {
        "id": "F3-ly3-u43d2"
      }
    },
    {
      "cell_type": "code",
      "source": [
        "# Coleta do percentual\n",
        "variacao = float(input('Digite o percentual de crescimento: '))\n",
        "\n",
        "# Verifica se o valor é positivo ou negativo com uma verificação se o número\n",
        "# é maior ou menor que 0\n",
        "if variacao > 0:\n",
        "    print(f'Houve um crescimento de {variacao}%')\n",
        "elif variacao < 0:\n",
        "    print(f'Houve um decrescimento de {variacao}%')\n",
        "else:\n",
        "    print('Não houve crescimento ou decrescimento.')"
      ],
      "metadata": {
        "colab": {
          "base_uri": "https://localhost:8080/"
        },
        "id": "4OqITNwg48Ze",
        "outputId": "a2e7044d-3ddb-4bb1-9489-8c5ab6ea1352"
      },
      "execution_count": 3,
      "outputs": [
        {
          "output_type": "stream",
          "name": "stdout",
          "text": [
            "Digite o percentual de crescimento: 0\n",
            "Não houve crescimento ou decrescimento.\n"
          ]
        }
      ]
    },
    {
      "cell_type": "markdown",
      "source": [
        "3) Escreva um programa que determine se uma letra fornecida pela pessoa usuária é uma vogal ou consoante."
      ],
      "metadata": {
        "id": "vzcynvHj5SgF"
      }
    },
    {
      "cell_type": "code",
      "source": [
        "# Coletamos a letra da pessoa usuária como minúscula\n",
        "letra = input('Digite uma letra: ').lower()\n",
        "vogais = 'aeiou' # string contendo todos os dados\n",
        "\n",
        "# Verificamos se a letra está nas vogais com in\n",
        "if letra in vogais:\n",
        "    print('A letra é uma vogal.')\n",
        "else:\n",
        "    print('A letra é uma consoante.')"
      ],
      "metadata": {
        "colab": {
          "base_uri": "https://localhost:8080/"
        },
        "id": "Ob9AvcU25XXJ",
        "outputId": "5fc293b1-afad-4123-9113-0e903a1983ed"
      },
      "execution_count": 5,
      "outputs": [
        {
          "output_type": "stream",
          "name": "stdout",
          "text": [
            "Digite uma letra: a\n",
            "A letra é uma vogal.\n"
          ]
        }
      ]
    },
    {
      "cell_type": "markdown",
      "source": [
        "4 - Comparamos cada valor com os outros dois valores referentes aos outros dois anos e determinamos o maior e o menor valor. Fazemos isso atribuindo, inicialmente, a variável preco_ano1 o valor de maior resultado e, caso um haja valor maior que o pré-estabelecido, a variável maior será trocada. A mesma lógica é aplicada à verificação do menor valor."
      ],
      "metadata": {
        "id": "g_sl_Agf51UN"
      }
    },
    {
      "cell_type": "code",
      "source": [
        "# Coletamos os preços dos 3 anos\n",
        "preco_ano1 = float(input('Informe o preço médio do carro no primeiro ano: '))\n",
        "preco_ano2 = float(input('Informe o preço médio do carro no segundo ano: '))\n",
        "preco_ano3 = float(input('Informe o preço médio do carro no terceiro ano: '))\n",
        "\n",
        "# Determinamos o maior valor através de comparações\n",
        "maior = preco_ano1\n",
        "if preco_ano2 > maior:\n",
        "  maior = preco_ano2\n",
        "if preco_ano3 > maior:\n",
        "  maior = preco_ano3\n",
        "\n",
        "# Determinamos o menor valor através de comparações\n",
        "menor = preco_ano1\n",
        "if preco_ano2 < menor:\n",
        "  menor = preco_ano2\n",
        "if preco_ano3 < menor:\n",
        "  menor = preco_ano3\n",
        "\n",
        "# Mostramos o resultado\n",
        "print(f'O preço mais alto foi de R$ {maior}.')\n",
        "print(f'O preço mais baixo foi de R$ {menor}.')"
      ],
      "metadata": {
        "colab": {
          "base_uri": "https://localhost:8080/"
        },
        "id": "AkRT1OIu5-g_",
        "outputId": "2455c984-3587-4dc8-cfa2-aa0921758b99"
      },
      "execution_count": 6,
      "outputs": [
        {
          "output_type": "stream",
          "name": "stdout",
          "text": [
            "Informe o preço médio do carro no primeiro ano: 1500\n",
            "Informe o preço médio do carro no segundo ano: 2000\n",
            "Informe o preço médio do carro no terceiro ano: 3500\n",
            "O preço mais alto foi de R$ 3500.0.\n",
            "O preço mais baixo foi de R$ 1500.0.\n"
          ]
        }
      ]
    },
    {
      "cell_type": "markdown",
      "source": [
        "5) Escreva um programa que pergunte sobre o preço de três produtos e indique qual é o produto mais barato para comprar."
      ],
      "metadata": {
        "id": "iHFmvqHL6Vjc"
      }
    },
    {
      "cell_type": "code",
      "source": [
        "# Coletamos os preços dos três produtos\n",
        "p1 = float(input('Digite o preço do primeiro produto: '))\n",
        "p2 = float(input('Digite o preço do segundo produto: '))\n",
        "p3 = float(input('Digite o preço do terceiro produto: '))\n",
        "\n",
        "# Verificamos qual produto é o mais barato usando o operador lógico 'and'\n",
        "if p1 < p2 and p1 < p3:\n",
        "    print('O primeiro produto é o mais barato.')\n",
        "elif p2 < p1 and p2 < p3:\n",
        "    print('O segundo produto é o mais barato.')\n",
        "elif p3 < p1 and p3 < p2:\n",
        "    print('O terceiro produto é o mais barato.')\n",
        "elif p1 == p2 == p3:\n",
        "    print('Os produtos possuem o mesmo preço.')\n",
        "else:\n",
        "    # Identificamos quais produtos possuem o mesmo preço, se for o caso\n",
        "    if p1 == p2:\n",
        "        print('O primeiro e o segundo produtos são os mais baratos.')\n",
        "    elif p2 == p3:\n",
        "        print('O segundo e terceiro produtos são os mais baratos.')\n",
        "    elif p1 == p3:\n",
        "        print('O primeiro e o terceiro produtos são os mais baratos.')"
      ],
      "metadata": {
        "colab": {
          "base_uri": "https://localhost:8080/"
        },
        "id": "QXLiGBrU6bSF",
        "outputId": "b5314833-8552-4e51-c9b4-60830ed2dd3e"
      },
      "execution_count": 7,
      "outputs": [
        {
          "output_type": "stream",
          "name": "stdout",
          "text": [
            "Digite o preço do primeiro produto: 530\n",
            "Digite o preço do segundo produto: 280\n",
            "Digite o preço do terceiro produto: 478\n",
            "O segundo produto é o mais barato.\n"
          ]
        }
      ]
    },
    {
      "cell_type": "markdown",
      "source": [
        "6 - Após coletados os 3 números, fazemos comparações seguindo uma lógica similar à da questão anterior: usamos o operador lógico and para verificar qual o maior valor entre os 3 dados de produto, depois fazemos uma verificação entre os dois menores e, assim, usamos o print para imprimir ordenadamente os números para cada caso, através de várias condicionais agrupadas."
      ],
      "metadata": {
        "id": "VpkrF2pE6xtm"
      }
    },
    {
      "cell_type": "code",
      "source": [
        "# Coletamos os 3 números\n",
        "num1 = int(input('Informe o primeiro número: '))\n",
        "num2 = int(input('Informe o segundo número: '))\n",
        "num3 = int(input('Informe o terceiro número: '))\n",
        "\n",
        "# Comparação entre os 3 números\n",
        "if (num1 >= num2) and (num1 >= num3):\n",
        "    print(num1)\n",
        "    if num2 >= num3:\n",
        "        print(num2)\n",
        "        print(num3)\n",
        "    else:\n",
        "        print(num3)\n",
        "        print(num2)\n",
        "elif (num2 >= num1) and (num2 >= num3):\n",
        "    print(num2)\n",
        "    if num1 >= num3:\n",
        "        print(num1)\n",
        "        print(num3)\n",
        "    else:\n",
        "        print(num3)\n",
        "        print(num1)\n",
        "else:\n",
        "    print(num3)\n",
        "    if num1 >= num2:\n",
        "        print(num1)\n",
        "        print(num2)\n",
        "    else:\n",
        "        print(num2)\n",
        "        print(num1)"
      ],
      "metadata": {
        "colab": {
          "base_uri": "https://localhost:8080/"
        },
        "id": "cPCfts1z65-V",
        "outputId": "b3cea9a8-254f-40b2-8f30-8eae550467c5"
      },
      "execution_count": 8,
      "outputs": [
        {
          "output_type": "stream",
          "name": "stdout",
          "text": [
            "Informe o primeiro número: 6\n",
            "Informe o segundo número: 2\n",
            "Informe o terceiro número: 9\n",
            "9\n",
            "6\n",
            "2\n"
          ]
        }
      ]
    },
    {
      "cell_type": "markdown",
      "source": [
        "7) Escreva um programa que pergunte em qual turno a pessoa usuária estuda (\"manhã\", \"tarde\" ou \"noite\") e exiba a mensagem \"Bom Dia!\", \"Boa Tarde!\", \"Boa Noite!\", ou \"Valor Inválido!\", conforme o caso."
      ],
      "metadata": {
        "id": "a0oXHZFL7Kjf"
      }
    },
    {
      "cell_type": "code",
      "source": [
        "# Coletamos o turno de estudo\n",
        "turno = input('Digite em qual turno você estuda (manhã, tarde ou noite): ')\n",
        "\n",
        "# Comparamos a entrada com todas as opções e imprimimos o resultado.\n",
        "if turno == 'manhã':\n",
        "  print('Bom Dia!')\n",
        "elif turno == 'tarde':\n",
        "  print('Boa Tarde!')\n",
        "elif turno == 'noite':\n",
        "  print('Boa Noite!')\n",
        "else:\n",
        "  print('Valor Inválido!')"
      ],
      "metadata": {
        "colab": {
          "base_uri": "https://localhost:8080/"
        },
        "id": "NFO6YMsY7QuG",
        "outputId": "2434e3d0-9c58-4dc6-c990-18a0170ae367"
      },
      "execution_count": 9,
      "outputs": [
        {
          "output_type": "stream",
          "name": "stdout",
          "text": [
            "Digite em qual turno você estuda (manhã, tarde ou noite): noite\n",
            "Boa Noite!\n"
          ]
        }
      ]
    },
    {
      "cell_type": "markdown",
      "source": [
        "8 - Podemos usar o operador de módulo % para determinar se um número é par ou ímpar. Se a divisão inteira de um número por 2 tiver um resultado igual à zero, então ele é par. Se não for, ele é ímpar. Isso é possível ser afirmado pois todos os pares são divisíveis por 2, então não há restos na divisão."
      ],
      "metadata": {
        "id": "tDVZYXGR7eRT"
      }
    },
    {
      "cell_type": "code",
      "source": [
        "# Coletamos os dados\n",
        "num = int(input('Digite um número: '))\n",
        "\n",
        "# Verificamos se o número é par através do resultado do módulo\n",
        "if num % 2 == 0:\n",
        "    print('O número é par.')\n",
        "else:\n",
        "    print('O número é ímpar.')"
      ],
      "metadata": {
        "colab": {
          "base_uri": "https://localhost:8080/"
        },
        "id": "-b-8G_Et70cZ",
        "outputId": "e3674249-919e-4afa-b856-3bcb5e1a98c1"
      },
      "execution_count": 11,
      "outputs": [
        {
          "output_type": "stream",
          "name": "stdout",
          "text": [
            "Digite um número: 3\n",
            "O número é ímpar.\n"
          ]
        }
      ]
    },
    {
      "cell_type": "markdown",
      "source": [
        "9 - Podemos usar o operador de módulo % para determinar se um número é inteiro ou decimal. Se o operador de módulo % retornar zero da divisão inteira de um número por 1, então ele é inteiro. Se não for, ele é decimal."
      ],
      "metadata": {
        "id": "6xi9_f6f76k8"
      }
    },
    {
      "cell_type": "code",
      "source": [
        "# Coletamos os dados\n",
        "num = float(input('Digite um número: '))\n",
        "\n",
        "# Verificamos se o número é inteiro ou decimal através do resultado do módulo\n",
        "if num % 1 == 0:\n",
        "    print('O número é inteiro.')\n",
        "else:\n",
        "    print('O número é decimal.')"
      ],
      "metadata": {
        "colab": {
          "base_uri": "https://localhost:8080/"
        },
        "id": "gFIMAp6g8DBW",
        "outputId": "a5bac093-a6c5-4df6-b6d0-81a39340af3c"
      },
      "execution_count": 14,
      "outputs": [
        {
          "output_type": "stream",
          "name": "stdout",
          "text": [
            "Digite um número: 5.5\n",
            "O número é decimal.\n"
          ]
        }
      ]
    },
    {
      "cell_type": "markdown",
      "source": [
        "10) Um programa deve ser escrito para ler dois números e, em seguida, perguntar à pessoa usuária qual operação ele deseja realizar. O resultado da operação deve incluir informações sobre o número - se é par ou ímpar, positivo ou negativo e inteiro ou decimal."
      ],
      "metadata": {
        "id": "Trs7RvBJ8TOW"
      }
    },
    {
      "cell_type": "code",
      "source": [
        "# Coletamos os números a serem operados e solicitamos a operação desejada pela pessoa usuária\n",
        "num1 = float(input('Informe o primeiro número: '))\n",
        "num2 = float(input('Informe o segundo número: '))\n",
        "operacao = input('Informe a operação desejada (+, -, *, /): ')\n",
        "\n",
        "# Verificamos o operador que foi selecionado e executa a operação matemática conforme a seleção\n",
        "if operacao == '+':\n",
        "    resultado = num1 + num2\n",
        "elif operacao == '-':\n",
        "    resultado = num1 - num2\n",
        "elif operacao == '*':\n",
        "    resultado = num1 * num2\n",
        "elif operacao == '/':\n",
        "    resultado = num1 / num2\n",
        "else: # Especificamos um resultado caso a pessoa usuária não digite alguma das operações corretamente.\n",
        "    print('Operação inválida, resultado da operação será 0')\n",
        "    resultado = 0\n",
        "\n",
        "#  Fazemos as mesmas verificações das questões anteriores para fazer o relatório do cálculo entre números\n",
        "if resultado % 1 == 0:\n",
        "    print('O resultado é inteiro.')\n",
        "else:\n",
        "    print('O resultado é decimal.')\n",
        "\n",
        "if resultado > 0:\n",
        "    print('O resultado é positivo.')\n",
        "elif resultado == 0:\n",
        "    print('O resultado é neutro.')\n",
        "else:\n",
        "    print('O resultado é negativo.')\n",
        "\n",
        "if resultado % 2 == 0:\n",
        "    print('O resultado é par.')\n",
        "else:\n",
        "    print('O resultado é ímpar.')"
      ],
      "metadata": {
        "colab": {
          "base_uri": "https://localhost:8080/"
        },
        "id": "Wk2RJvg28jN3",
        "outputId": "582d3c94-abb2-4801-b462-dffa69b1f269"
      },
      "execution_count": 15,
      "outputs": [
        {
          "output_type": "stream",
          "name": "stdout",
          "text": [
            "Informe o primeiro número: 2\n",
            "Informe o segundo número: 2\n",
            "Informe a operação desejada (+, -, *, /): *\n",
            "O resultado é inteiro.\n",
            "O resultado é positivo.\n",
            "O resultado é par.\n"
          ]
        }
      ]
    },
    {
      "cell_type": "markdown",
      "source": [
        "11 - Após coletarmos os valores dos 3 lados de um triângulo, precisamos verificar se ele pode mesmo ser um triângulo seguindo a dica “Três lados formam um triângulo quando a soma de quaisquer dois lados for maior que o terceiro”. Essa verificação podemos fazer com o operador and. Depois, podemos verificar se todos os lados são iguais formando um equilátero, ou se todos os lados são diferentes, formando um escaleno. Conseguimos executar essas verificações com o operador and e os comparadores == e !=. Por fim, utilizamos o else para o caso de um triângulo isósceles."
      ],
      "metadata": {
        "id": "mvEzCi639H-m"
      }
    },
    {
      "cell_type": "code",
      "source": [
        "# Coletamos os lados de um triângulo\n",
        "print('Coletaremos os lados de um triângulo.')\n",
        "lado1 = float(input('Digite o comprimento do primeiro lado: '))\n",
        "lado2 = float(input('Digite o comprimento do segundo lado: '))\n",
        "lado3 = float(input('Digite o comprimento do terceiro lado: '))\n",
        "\n",
        "# Verificamos de os lados formam um triângulo\n",
        "if (lado1 + lado2 > lado3) and (lado2 + lado3 > lado1) and (lado1 + lado3 > lado2):\n",
        "    print('Os valores podem formar um triângulo!')\n",
        "    # comparamos os lados para verificar o tipo de triângulo\n",
        "    if (lado1 == lado2) and (lado2 == lado3):\n",
        "        print('O triângulo é equilátero.')\n",
        "    elif (lado1 != lado2) and (lado2 != lado3) and (lado1 != lado3):\n",
        "        print('O triângulo é escaleno.')\n",
        "    else:\n",
        "        print('O triângulo é isósceles.')\n",
        "else:\n",
        "    print('Os valores não podem formar um triângulo!')"
      ],
      "metadata": {
        "colab": {
          "base_uri": "https://localhost:8080/"
        },
        "id": "igXqFmHv9UiO",
        "outputId": "fa252b3c-50a6-4596-a9a2-a063ee9e6b1e"
      },
      "execution_count": 19,
      "outputs": [
        {
          "output_type": "stream",
          "name": "stdout",
          "text": [
            "Coletaremos os lados de um triângulo.\n",
            "Digite o comprimento do primeiro lado: 3\n",
            "Digite o comprimento do segundo lado: 3\n",
            "Digite o comprimento do terceiro lado: 3\n",
            "Os valores podem formar um triângulo!\n",
            "O triângulo é equilátero.\n"
          ]
        }
      ]
    },
    {
      "cell_type": "markdown",
      "source": [
        "12) Um estabelecimento está vendendo combustíveis com descontos variados. Para o etanol, se a quantidade comprada for até 15 litros, o desconto será de 2% por litro. Caso contrário, será de 4% por litro. Para o diesel, se a quantidade comprada for até 15 litros, o desconto será de 3% por litro. Caso contrário, será de 5% por litro. O preço do litro de diesel é R$ 2,00 e o preço do litro de etanol é R$ 1,70. Escreva um programa que leia a quantidade de litros vendidos e o tipo de combustível (E para etanol e D para diesel) e calcule o valor a ser pago pelo cliente. Tenha em mente algumas dicas:\n",
        "\n",
        "O do valor do desconto será a multiplicação entre preço do litro, quantidade de litros e o valor do desconto.\n",
        "O valor a ser pago por um cliente será o resultado da multiplicação do preço do litro pela quantidade de litros menos o valor de desconto resultante do cálculo."
      ],
      "metadata": {
        "id": "J6ywE-0u9ywF"
      }
    },
    {
      "cell_type": "code",
      "source": [
        "# Coletamos a quantidade de litros e o tipo de combustível,\n",
        "# já deixando o caractere em maiúsculo para facilitar nossa análise\n",
        "quantidade_litros = float(input('Informe a quantidade de litros vendidos: '))\n",
        "tipo_combustivel = input('Informe o tipo de combustível (E para etanol e D para diesel): ').upper()\n",
        "\n",
        "#  Verificamos primeiro o tipo de combustível\n",
        "if tipo_combustivel == 'E':\n",
        "  # Taxamos o valor do preço em litros do etanol\n",
        "  preco_litro = 1.70\n",
        "  # De acordo com o valor da quantidade de litros, taxamos também o desconto\n",
        "  if quantidade_litros <= 15:\n",
        "    desconto = 0.02\n",
        "  else:\n",
        "    desconto = 0.04\n",
        "elif tipo_combustivel == 'D':\n",
        "  # Taxamos o valor do preço em litros do disel\n",
        "  preco_litro = 2.00\n",
        "  # De acordo com o valor da quantidade de litros, taxamos também o desconto\n",
        "  if quantidade_litros <= 15:\n",
        "    desconto = 0.03\n",
        "  else:\n",
        "    desconto = 0.05\n",
        "# Caso ocorra um erro na especificação de tipo de combustível,\n",
        "# consideramos entradas inválidas, e os preços são taxados em 0\n",
        "else:\n",
        "    print('Entradas inválidas!')\n",
        "    preco_litro = 0\n",
        "    desconto = 0\n",
        "\n",
        "# Fazemos o cálculo do valor de desconto, seguido do cálculo do preço descontado\n",
        "valor_desconto = preco_litro * quantidade_litros * desconto\n",
        "valor_pago = preco_litro * quantidade_litros - valor_desconto\n",
        "\n",
        "# Resultado\n",
        "print(f'Valor a ser pago pelo cliente: R$ {valor_pago}')"
      ],
      "metadata": {
        "colab": {
          "base_uri": "https://localhost:8080/"
        },
        "id": "XOLQJdKT-JKL",
        "outputId": "f518cd13-5115-4e6d-fc1f-0c1e3e071e78"
      },
      "execution_count": 21,
      "outputs": [
        {
          "output_type": "stream",
          "name": "stdout",
          "text": [
            "Informe a quantidade de litros vendidos: 120\n",
            "Informe o tipo de combustível (E para etanol e D para diesel): d\n",
            "Valor a ser pago pelo cliente: R$ 228.0\n"
          ]
        }
      ]
    },
    {
      "cell_type": "markdown",
      "source": [
        "13) Em uma empresa de venda de imóveis você precisa criar um código que analise os dados de vendas anuais para ajudar a diretoria na tomada de decisão. O código precisa coletar os dados de quantidade de venda durante os anos de 2022 e 2023 e fazer um cálculo de variação percentual. A partir do valor da variação, deve ser enviada às seguintes sugestões:\n",
        "\n",
        "Para variação acima de 20%: bonificação para o time de vendas.\n",
        "Para variação entre 2% e 20%: pequena bonificação para time de vendas.\n",
        "Para variação entre 2% e -10%: planejamento de políticas de incentivo às vendas.\n",
        "Para bonificações abaixo de -10%: corte de gastos."
      ],
      "metadata": {
        "id": "6VHkbGng-4JZ"
      }
    },
    {
      "cell_type": "code",
      "source": [
        "# Coletamos as vendas dos dois anos\n",
        "venda_2022 = float(input('Informe a quantidade de vendas em 2022: '))\n",
        "venda_2023 = float(input('Informe a quantidade de vendas em 2023: '))\n",
        "\n",
        "# Calculamos a variação percentual entre as vendas dos anos de 2022 e 2023\n",
        "var_percentual = 100 * (venda_2023 - venda_2022) / (venda_2022)\n",
        "\n",
        "# Análise condicional da variação percentual para determinar a sugestão a ser enviada\n",
        "if var_percentual > 20:\n",
        "    print('Bonificação para o time de vendas.')\n",
        "elif 2 <= var_percentual <= 20:\n",
        "    print('Pequena bonificação para time de vendas.')\n",
        "elif -10 <= var_percentual < 2:\n",
        "    print('Planejamento de políticas de incentivo às vendas.')\n",
        "else:\n",
        "    print('Corte de gastos.')"
      ],
      "metadata": {
        "colab": {
          "base_uri": "https://localhost:8080/"
        },
        "id": "jJvKZEPB_Iln",
        "outputId": "42ca357c-8c9a-4f5a-eedc-abad3ec49118"
      },
      "execution_count": 22,
      "outputs": [
        {
          "output_type": "stream",
          "name": "stdout",
          "text": [
            "Informe a quantidade de vendas em 2022: 500\n",
            "Informe a quantidade de vendas em 2023: 600\n",
            "Pequena bonificação para time de vendas.\n"
          ]
        }
      ]
    }
  ]
}